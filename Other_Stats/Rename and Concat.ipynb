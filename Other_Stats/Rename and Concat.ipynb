{
 "cells": [
  {
   "cell_type": "code",
   "execution_count": 5,
   "id": "c0d8739c",
   "metadata": {
    "scrolled": true
   },
   "outputs": [
    {
     "data": {
      "text/plain": [
       "'\\ndef convert_xls_to_xlsx(workbook_name):\\n    excel = win32.gencache.EnsureDispatch(\\'Excel.Application\\')\\n    wb = excel.Workbooks.Open(folder_path+ workbook_name)\\n\\n    # FileFormat=51 is for .xlsx extension\\n    wb.SaveAs(str(folder_path + workbook_name)).replace(\\'.xls\\', \\'.xlsx\\'), FileFormat=51)\\n    wb.Close()\\n    excel.Application.Quit()\\n    \\nfor filename in os.listdir(folder_path):\\n    if filename.endswith(\".xls\"):\\n        print(filename)\\n        convert_xls_to_xlsx(filename)\\n'"
      ]
     },
     "execution_count": 5,
     "metadata": {},
     "output_type": "execute_result"
    }
   ],
   "source": [
    "from pathlib import Path\n",
    "import win32com.client as win32\n",
    "import pandas as pd\n",
    "import os\n",
    "\n",
    "folder_path = \"C:/Users/Kay Zhang/Documents/Professional/Projects/NBA-Draft-Explorationv2/Other_Stats/Archive/Advanced\" \n",
    "\n",
    "'''\n",
    "def convert_xls_to_xlsx(workbook_name):\n",
    "    excel = win32.gencache.EnsureDispatch('Excel.Application')\n",
    "    wb = excel.Workbooks.Open(folder_path+ workbook_name)\n",
    "\n",
    "    # FileFormat=51 is for .xlsx extension\n",
    "    wb.SaveAs(str(folder_path + workbook_name)).replace('.xls', '.xlsx'), FileFormat=51)\n",
    "    wb.Close()\n",
    "    excel.Application.Quit()\n",
    "    \n",
    "for filename in os.listdir(folder_path):\n",
    "    if filename.endswith(\".xls\"):\n",
    "        print(filename)\n",
    "        convert_xls_to_xlsx(filename)\n",
    "'''"
   ]
  },
  {
   "cell_type": "code",
   "execution_count": 6,
   "id": "1b2e3220",
   "metadata": {},
   "outputs": [
    {
     "name": "stdout",
     "output_type": "stream",
     "text": [
      "Successfully combined all excel files\n"
     ]
    }
   ],
   "source": [
    "def append_excel_files(directory):\n",
    "    all_files = os.listdir(directory)\n",
    "    excel_files = [f for f in all_files if f.endswith('.xlsx')]\n",
    "    \n",
    "    all_df = []\n",
    "    for file in excel_files:\n",
    "        file_path = os.path.join(directory, file)\n",
    "        df = pd.read_excel(file_path)\n",
    "        all_df.append(df)\n",
    "    \n",
    "    if all_df:\n",
    "        combined_df = pd.concat(all_df, ignore_index=True)\n",
    "        return combined_df\n",
    "    else:\n",
    "        return pd.DataFrame()\n",
    "\n",
    "# Example Usage\n",
    "folder_path = \"C:/Users/Kay Zhang/Documents/Professional/Projects/NBA-Draft-Explorationv2/Other_Stats/Archive/Advanced\" \n",
    "\n",
    "combined_data = append_excel_files(folder_path)\n",
    "\n",
    "if not combined_data.empty:\n",
    "    combined_data.to_excel('SeasonStats_19892025.xlsx', index=False)\n",
    "    print(\"Successfully combined all excel files\")\n",
    "else:\n",
    "    print(\"No excel files found in the directory.\")"
   ]
  },
  {
   "cell_type": "code",
   "execution_count": null,
   "id": "1ac8e0bb",
   "metadata": {},
   "outputs": [],
   "source": []
  }
 ],
 "metadata": {
  "kernelspec": {
   "display_name": "Python 3",
   "language": "python",
   "name": "python3"
  },
  "language_info": {
   "codemirror_mode": {
    "name": "ipython",
    "version": 3
   },
   "file_extension": ".py",
   "mimetype": "text/x-python",
   "name": "python",
   "nbconvert_exporter": "python",
   "pygments_lexer": "ipython3",
   "version": "3.8.8"
  }
 },
 "nbformat": 4,
 "nbformat_minor": 5
}
