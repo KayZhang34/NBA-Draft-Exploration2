{
 "cells": [
  {
   "cell_type": "code",
   "execution_count": 76,
   "id": "c0d8739c",
   "metadata": {
    "scrolled": true
   },
   "outputs": [
    {
     "name": "stdout",
     "output_type": "stream",
     "text": [
      "sportsref_download (1).xls\n",
      "sportsref_download (10).xls\n",
      "sportsref_download (11).xls\n",
      "sportsref_download (12).xls\n",
      "sportsref_download (13).xls\n",
      "sportsref_download (14).xls\n",
      "sportsref_download (15).xls\n",
      "sportsref_download (16).xls\n",
      "sportsref_download (17).xls\n",
      "sportsref_download (18).xls\n",
      "sportsref_download (19).xls\n",
      "sportsref_download (2).xls\n",
      "sportsref_download (20).xls\n",
      "sportsref_download (21).xls\n",
      "sportsref_download (22).xls\n",
      "sportsref_download (23).xls\n",
      "sportsref_download (24).xls\n",
      "sportsref_download (25).xls\n",
      "sportsref_download (26).xls\n",
      "sportsref_download (27).xls\n",
      "sportsref_download (28).xls\n",
      "sportsref_download (29).xls\n",
      "sportsref_download (3).xls\n",
      "sportsref_download (30).xls\n",
      "sportsref_download (31).xls\n",
      "sportsref_download (32).xls\n",
      "sportsref_download (33).xls\n",
      "sportsref_download (34).xls\n",
      "sportsref_download (35).xls\n",
      "sportsref_download (36).xls\n",
      "sportsref_download (37).xls\n",
      "sportsref_download (38).xls\n",
      "sportsref_download (39).xls\n",
      "sportsref_download (4).xls\n",
      "sportsref_download (40).xls\n",
      "sportsref_download (41).xls\n",
      "sportsref_download (42).xls\n",
      "sportsref_download (5).xls\n",
      "sportsref_download (6).xls\n",
      "sportsref_download (7).xls\n",
      "sportsref_download (8).xls\n",
      "sportsref_download (9).xls\n",
      "sportsref_download.xls\n"
     ]
    }
   ],
   "source": [
    "from pathlib import Path\n",
    "import win32com.client as win32\n",
    "import pandas as pd\n",
    "import os\n",
    "\n",
    "folder_path = \"C:/Users/Kay Zhang/Documents/Professional/Projects/NBA-Draft-Explorationv2/Other_Stats/Archive/Advanced\" \n",
    "\n",
    "def convert_xls_to_xlsx(workbook_name):\n",
    "    excel = win32.gencache.EnsureDispatch('Excel.Application')\n",
    "    wb = excel.Workbooks.Open(folder_path+ workbook_name)\n",
    "\n",
    "    # FileFormat=51 is for .xlsx extension\n",
    "    wb.SaveAs(str(folder_path + workbook_name)).replace('.xls', '.xlsx'), FileFormat=51)\n",
    "    wb.Close()\n",
    "    excel.Application.Quit()\n",
    "    \n",
    "for filename in os.listdir(folder_path):\n",
    "    if filename.endswith(\".xls\"):\n",
    "        print(filename)\n",
    "        convert_xls_to_xlsx(filename)"
   ]
  },
  {
   "cell_type": "code",
   "execution_count": 77,
   "id": "1b2e3220",
   "metadata": {},
   "outputs": [
    {
     "name": "stdout",
     "output_type": "stream",
     "text": [
      "Successfully combined all excel files\n"
     ]
    }
   ],
   "source": [
    "def append_excel_files(directory):\n",
    "    all_files = os.listdir(directory)\n",
    "    excel_files = [f for f in all_files if f.endswith('.xlsx')]\n",
    "    \n",
    "    all_df = []\n",
    "    for file in excel_files:\n",
    "        file_path = os.path.join(directory, file)\n",
    "        df = pd.read_excel(file_path)\n",
    "        all_df.append(df)\n",
    "    \n",
    "    if all_df:\n",
    "        combined_df = pd.concat(all_df, ignore_index=True)\n",
    "        return combined_df\n",
    "    else:\n",
    "        return pd.DataFrame()\n",
    "\n",
    "# Example Usage\n",
    "folder_path = \"C:/Users/Kay Zhang/Documents/Professional/Projects/NBA-Draft-Explorationv2/Other_Stats/Archive/Advanced\" \n",
    "\n",
    "combined_data = append_excel_files(folder_path)\n",
    "\n",
    "if not combined_data.empty:\n",
    "    combined_data.to_excel('SeasonStats_19892025.xlsx', index=False)\n",
    "    print(\"Successfully combined all excel files\")\n",
    "else:\n",
    "    print(\"No excel files found in the directory.\")"
   ]
  },
  {
   "cell_type": "code",
   "execution_count": null,
   "id": "1ac8e0bb",
   "metadata": {},
   "outputs": [],
   "source": []
  }
 ],
 "metadata": {
  "kernelspec": {
   "display_name": "Python 3",
   "language": "python",
   "name": "python3"
  },
  "language_info": {
   "codemirror_mode": {
    "name": "ipython",
    "version": 3
   },
   "file_extension": ".py",
   "mimetype": "text/x-python",
   "name": "python",
   "nbconvert_exporter": "python",
   "pygments_lexer": "ipython3",
   "version": "3.8.8"
  }
 },
 "nbformat": 4,
 "nbformat_minor": 5
}
