{
 "cells": [
  {
   "cell_type": "markdown",
   "metadata": {},
   "source": [
    "# The Expected Value of an NBA Draft"
   ]
  },
  {
   "cell_type": "markdown",
   "metadata": {},
   "source": [
    "## 1.0 Introduction\n",
    "\n",
    "The game of basketball is forever changing. Trends come and go, teams rise and fall, players' legacies are constantly being  written and re-written. \n",
    "\n",
    "Perhaps more than in any other sport, a single player can be the difference maker for a franchise. While teams can acquire players through a few different methods (drafts, signings, and trades), some of the most compelling stories in the NBA explore a \"Chosen One\" narrative: a young prospect turned superstar that brings the team that drafted them into championship contetion. (Ex: Magic Johson, Tim Duncan, LeBron James)\n",
    "\n",
    "For every success story, however, there are a few \"busts\" along the way. How often do we see a team place their hopes in some 19-20 year old touted as \"The Next Michael Jordan\" only for this same team to remain in the lottery for years to come? On the other end, there are some \"hidden gems\" taken later in the draft that surprise people with their production (Ex: Dennis Rodman, Manu Ginobili , Nikola Jokic)\n",
    "\n",
    "Human behaviour is so difficult to predict and there are limitless factors that effect player performance. Teams might not always scout correctly or coach properly, and players might not perform or develop as expected. Win Shares, VORP, and Plus/Minus are far from perfect measures of player value, and there are so many unfounded expectations and overwhelming uncertainties. Such is the nature of the NBA Draft.\n",
    "\n",
    "**In this article, I aim to quantify value of different draft picks and explore how draft position might be related to player performance**. We likely will not find a terribly strong, generalizable model in our analysis, but this exploration *might* still provide insight on the nature of NBA draft picks."
   ]
  },
  {
   "cell_type": "markdown",
   "metadata": {},
   "source": [
    "## 2.0 Methodology\n",
    "\n",
    "**Sample**: We have pulled 22 draft classes (1989 to 2011) as our sample (n = 1322 draftees).\n",
    "\n",
    "We begin from 1989 because the modern draft format (two rounds of draft picks) was introduced in 1989, and the NBA has kept the two-round format since then. We end with 2011 because there are players drafted in 2012 and beyond that might still produce \"prime\" seasons.\n",
    "\n",
    "**Data Sources**: I pulled Draft Position data and Regular Season data from [Stathead.com][2]. Shoutouts to their team for assisting me on using their tools!\n",
    "\n",
    "**Player Value**: To measure the “value” of each draftee, I am using a statistic referenced on [BoxScoreGeeks.com][1]: Brocato Prime Wins. We are interested in a draftee’s **five** best regular seasons organized by **total Win Shares** (WS). \n",
    "\n",
    "We will refer to this measure as \"Prime Win Shares\", \"Prime Wins\", or \"Prime WS\" from this point forward.\n",
    "\n",
    "**Notes**:\n",
    "1. What to do with draftees that did not play in the NBA or play 5 seasons?\n",
    "    * We will include any/all the seasons we can, but seasons of absence we will fill with no production: 0 Win Shares.\n",
    "    * Likewise, \"non-players\" will be treated as though they produced 0 Win Shares over their entire career.\n",
    "    * We want to include these abscences because at the end of the day, we wish to determine the value of a draft pick. Even if the draft pick was used on a player that never played in the NBA, this should still be accounted for in our dataset.\n",
    "\n",
    "2. Why use total Win Shares instead of time/pace adjusted measures?\n",
    "    * I decided to use total Win Shares over Win Shares per 48 Minutes (WS/48), because I wanted to value overall impact over efficiency.\n",
    "    * Players with high WS/48 might be highly efficient, but their impact is limited if they are rarely on the court.\n",
    "    * A player with relatively lower WS/48 that plays many more minutes arguably provides greater utility for a team/franchise.\n",
    "\n",
    "3. Why are we using the five best seasons?\n",
    "    * According to [The Guardian][3], The average nba career length is around 4.9 years. Five seasons of data should cover the average nba career.\n",
    "    * Using the five *best* seasons will give us an idea of the player's peak while balancing some level of longevity.\n",
    "\n",
    "**Confounding Effects?**\n",
    "\n",
    "1. Draft Position and Team Investment\n",
    "    * Differences in draft position may be coupled with different degrees of team investment.\n",
    "    * Franchises could be more inclined to build their team around a player on which they have used a higher draft pick. This would could positvely impact draftee's on court performance.\n",
    "    * By design, higher draft picks are supposed to go to worse teams. Less talented prospects might not have to play as well to be awarded with more minutes, and on average, more minutes produces more Win Shares. \n",
    "\n",
    "\n",
    "2. Draft Position and Personal Investment\n",
    "    * Differenes in draft position come with differences in player salary.\n",
    "    * Players with more money can afford to invest in themselves to a greater degree.\n",
    "    * While teams/coaches should be investing in their own players, and the NBA pays its players very well, there is still an inherent difference in pay between different picks of the same draft class.\n",
    "    * Ex: In 1989, the first overall pick, Pervis Ellison, recieved \\\\$2.4 million from the Sacremento Kings. The first pick in the 2nd round (28th overall), Sherman Douglas, was only paid \\\\$325k. \n",
    "    \n",
    "\n",
    "[1]:https://www.boxscoregeeks.com/articles/twenty-players-better-than-kobe \"Some Kobe H8er Article\"\n",
    "[2]:https://stathead.com/tiny/Vmzxj \"Sharable Query Link\"\n",
    "[3]:https://www.theguardian.com/sport/2015/nov/30/the-kobe-bryant-outlier-how-his-career-compares-to-the-nba-average#:~:text=Among%20the%203%2C668%20players%20Wilczynski,career%20length%20was%204.9%20years \"The Kobe Bryant outlier\""
   ]
  },
  {
   "cell_type": "code",
   "execution_count": 168,
   "metadata": {},
   "outputs": [],
   "source": [
    "#Importing Pandas and numpy\n",
    "import pandas as pd\n",
    "import numpy as np"
   ]
  },
  {
   "cell_type": "code",
   "execution_count": 15,
   "metadata": {},
   "outputs": [],
   "source": [
    "#Loading the raw data\n",
    "seasonDataRaw = pd.read_excel('SeasonStats_19892025.xlsx')\n",
    "draftListRaw = pd.read_excel('DraftPosition_19892011.xlsx')"
   ]
  },
  {
   "cell_type": "code",
   "execution_count": 16,
   "metadata": {},
   "outputs": [
    {
     "data": {
      "text/html": [
       "<div>\n",
       "<style scoped>\n",
       "    .dataframe tbody tr th:only-of-type {\n",
       "        vertical-align: middle;\n",
       "    }\n",
       "\n",
       "    .dataframe tbody tr th {\n",
       "        vertical-align: top;\n",
       "    }\n",
       "\n",
       "    .dataframe thead th {\n",
       "        text-align: right;\n",
       "    }\n",
       "</style>\n",
       "<table border=\"1\" class=\"dataframe\">\n",
       "  <thead>\n",
       "    <tr style=\"text-align: right;\">\n",
       "      <th></th>\n",
       "      <th>Rk</th>\n",
       "      <th>Player</th>\n",
       "      <th>WS</th>\n",
       "      <th>Draft Team</th>\n",
       "      <th>Round</th>\n",
       "      <th>Pick</th>\n",
       "      <th>Draft Year</th>\n",
       "      <th>College</th>\n",
       "      <th>Season</th>\n",
       "      <th>Age</th>\n",
       "      <th>...</th>\n",
       "      <th>PER</th>\n",
       "      <th>ORB%</th>\n",
       "      <th>DRB%</th>\n",
       "      <th>TRB%</th>\n",
       "      <th>AST%</th>\n",
       "      <th>STL%</th>\n",
       "      <th>BLK%</th>\n",
       "      <th>TOV%</th>\n",
       "      <th>USG%</th>\n",
       "      <th>Pos</th>\n",
       "    </tr>\n",
       "  </thead>\n",
       "  <tbody>\n",
       "    <tr>\n",
       "      <th>0</th>\n",
       "      <td>201</td>\n",
       "      <td>Kenny Anderson</td>\n",
       "      <td>0.2</td>\n",
       "      <td>NJN</td>\n",
       "      <td>1</td>\n",
       "      <td>2</td>\n",
       "      <td>1991</td>\n",
       "      <td>Georgia Tech</td>\n",
       "      <td>2004-05</td>\n",
       "      <td>34</td>\n",
       "      <td>...</td>\n",
       "      <td>10.1</td>\n",
       "      <td>3.6</td>\n",
       "      <td>10.5</td>\n",
       "      <td>6.9</td>\n",
       "      <td>22.2</td>\n",
       "      <td>2.3</td>\n",
       "      <td>0.0</td>\n",
       "      <td>18.4</td>\n",
       "      <td>16.1</td>\n",
       "      <td>G</td>\n",
       "    </tr>\n",
       "    <tr>\n",
       "      <th>1</th>\n",
       "      <td>202</td>\n",
       "      <td>Nick Anderson</td>\n",
       "      <td>1.8</td>\n",
       "      <td>ORL</td>\n",
       "      <td>1</td>\n",
       "      <td>11</td>\n",
       "      <td>1989</td>\n",
       "      <td>Illinois</td>\n",
       "      <td>1989-90</td>\n",
       "      <td>22</td>\n",
       "      <td>...</td>\n",
       "      <td>14.9</td>\n",
       "      <td>6.1</td>\n",
       "      <td>12.7</td>\n",
       "      <td>9.3</td>\n",
       "      <td>10.5</td>\n",
       "      <td>1.8</td>\n",
       "      <td>1.0</td>\n",
       "      <td>13.7</td>\n",
       "      <td>22.1</td>\n",
       "      <td>F-G</td>\n",
       "    </tr>\n",
       "    <tr>\n",
       "      <th>2</th>\n",
       "      <td>203</td>\n",
       "      <td>Nick Anderson</td>\n",
       "      <td>3.1</td>\n",
       "      <td>ORL</td>\n",
       "      <td>1</td>\n",
       "      <td>11</td>\n",
       "      <td>1989</td>\n",
       "      <td>Illinois</td>\n",
       "      <td>1990-91</td>\n",
       "      <td>23</td>\n",
       "      <td>...</td>\n",
       "      <td>15.1</td>\n",
       "      <td>4.9</td>\n",
       "      <td>16.7</td>\n",
       "      <td>10.7</td>\n",
       "      <td>8.5</td>\n",
       "      <td>1.8</td>\n",
       "      <td>1.3</td>\n",
       "      <td>10.4</td>\n",
       "      <td>22.4</td>\n",
       "      <td>F-G</td>\n",
       "    </tr>\n",
       "    <tr>\n",
       "      <th>3</th>\n",
       "      <td>204</td>\n",
       "      <td>Nick Anderson</td>\n",
       "      <td>3.6</td>\n",
       "      <td>ORL</td>\n",
       "      <td>1</td>\n",
       "      <td>11</td>\n",
       "      <td>1989</td>\n",
       "      <td>Illinois</td>\n",
       "      <td>1991-92</td>\n",
       "      <td>24</td>\n",
       "      <td>...</td>\n",
       "      <td>16.4</td>\n",
       "      <td>4.8</td>\n",
       "      <td>14.9</td>\n",
       "      <td>9.7</td>\n",
       "      <td>12.4</td>\n",
       "      <td>2.2</td>\n",
       "      <td>0.9</td>\n",
       "      <td>9.7</td>\n",
       "      <td>24.5</td>\n",
       "      <td>F-G</td>\n",
       "    </tr>\n",
       "    <tr>\n",
       "      <th>4</th>\n",
       "      <td>205</td>\n",
       "      <td>Nick Anderson</td>\n",
       "      <td>7.7</td>\n",
       "      <td>ORL</td>\n",
       "      <td>1</td>\n",
       "      <td>11</td>\n",
       "      <td>1989</td>\n",
       "      <td>Illinois</td>\n",
       "      <td>1992-93</td>\n",
       "      <td>25</td>\n",
       "      <td>...</td>\n",
       "      <td>17.3</td>\n",
       "      <td>5.0</td>\n",
       "      <td>13.0</td>\n",
       "      <td>9.2</td>\n",
       "      <td>14.7</td>\n",
       "      <td>2.2</td>\n",
       "      <td>1.2</td>\n",
       "      <td>9.9</td>\n",
       "      <td>24.5</td>\n",
       "      <td>F-G</td>\n",
       "    </tr>\n",
       "  </tbody>\n",
       "</table>\n",
       "<p>5 rows × 34 columns</p>\n",
       "</div>"
      ],
      "text/plain": [
       "    Rk          Player   WS Draft Team  Round  Pick  Draft Year       College  \\\n",
       "0  201  Kenny Anderson  0.2        NJN      1     2        1991  Georgia Tech   \n",
       "1  202   Nick Anderson  1.8        ORL      1    11        1989      Illinois   \n",
       "2  203   Nick Anderson  3.1        ORL      1    11        1989      Illinois   \n",
       "3  204   Nick Anderson  3.6        ORL      1    11        1989      Illinois   \n",
       "4  205   Nick Anderson  7.7        ORL      1    11        1989      Illinois   \n",
       "\n",
       "    Season  Age  ...   PER  ORB%  DRB%  TRB%  AST%  STL%  BLK%  TOV%  USG%  \\\n",
       "0  2004-05   34  ...  10.1   3.6  10.5   6.9  22.2   2.3   0.0  18.4  16.1   \n",
       "1  1989-90   22  ...  14.9   6.1  12.7   9.3  10.5   1.8   1.0  13.7  22.1   \n",
       "2  1990-91   23  ...  15.1   4.9  16.7  10.7   8.5   1.8   1.3  10.4  22.4   \n",
       "3  1991-92   24  ...  16.4   4.8  14.9   9.7  12.4   2.2   0.9   9.7  24.5   \n",
       "4  1992-93   25  ...  17.3   5.0  13.0   9.2  14.7   2.2   1.2   9.9  24.5   \n",
       "\n",
       "   Pos  \n",
       "0    G  \n",
       "1  F-G  \n",
       "2  F-G  \n",
       "3  F-G  \n",
       "4  F-G  \n",
       "\n",
       "[5 rows x 34 columns]"
      ]
     },
     "execution_count": 16,
     "metadata": {},
     "output_type": "execute_result"
    }
   ],
   "source": [
    "seasonDataRaw.head()"
   ]
  },
  {
   "cell_type": "code",
   "execution_count": 17,
   "metadata": {},
   "outputs": [
    {
     "data": {
      "text/html": [
       "<div>\n",
       "<style scoped>\n",
       "    .dataframe tbody tr th:only-of-type {\n",
       "        vertical-align: middle;\n",
       "    }\n",
       "\n",
       "    .dataframe tbody tr th {\n",
       "        vertical-align: top;\n",
       "    }\n",
       "\n",
       "    .dataframe thead th {\n",
       "        text-align: right;\n",
       "    }\n",
       "</style>\n",
       "<table border=\"1\" class=\"dataframe\">\n",
       "  <thead>\n",
       "    <tr style=\"text-align: right;\">\n",
       "      <th></th>\n",
       "      <th>Rk</th>\n",
       "      <th>Year</th>\n",
       "      <th>Lg</th>\n",
       "      <th>Rd</th>\n",
       "      <th>Pk</th>\n",
       "      <th>Tm</th>\n",
       "      <th>Player</th>\n",
       "    </tr>\n",
       "  </thead>\n",
       "  <tbody>\n",
       "    <tr>\n",
       "      <th>0</th>\n",
       "      <td>1</td>\n",
       "      <td>1989</td>\n",
       "      <td>NBA</td>\n",
       "      <td>1</td>\n",
       "      <td>1</td>\n",
       "      <td>SAC</td>\n",
       "      <td>Pervis Ellison</td>\n",
       "    </tr>\n",
       "    <tr>\n",
       "      <th>1</th>\n",
       "      <td>2</td>\n",
       "      <td>1989</td>\n",
       "      <td>NBA</td>\n",
       "      <td>1</td>\n",
       "      <td>2</td>\n",
       "      <td>LAC</td>\n",
       "      <td>Danny Ferry</td>\n",
       "    </tr>\n",
       "    <tr>\n",
       "      <th>2</th>\n",
       "      <td>3</td>\n",
       "      <td>1989</td>\n",
       "      <td>NBA</td>\n",
       "      <td>1</td>\n",
       "      <td>3</td>\n",
       "      <td>SAS</td>\n",
       "      <td>Sean Elliott</td>\n",
       "    </tr>\n",
       "    <tr>\n",
       "      <th>3</th>\n",
       "      <td>4</td>\n",
       "      <td>1989</td>\n",
       "      <td>NBA</td>\n",
       "      <td>1</td>\n",
       "      <td>4</td>\n",
       "      <td>MIA</td>\n",
       "      <td>Glen Rice</td>\n",
       "    </tr>\n",
       "    <tr>\n",
       "      <th>4</th>\n",
       "      <td>5</td>\n",
       "      <td>1989</td>\n",
       "      <td>NBA</td>\n",
       "      <td>1</td>\n",
       "      <td>5</td>\n",
       "      <td>CHH</td>\n",
       "      <td>J.R. Reid</td>\n",
       "    </tr>\n",
       "  </tbody>\n",
       "</table>\n",
       "</div>"
      ],
      "text/plain": [
       "   Rk  Year   Lg  Rd  Pk   Tm          Player\n",
       "0   1  1989  NBA   1   1  SAC  Pervis Ellison\n",
       "1   2  1989  NBA   1   2  LAC     Danny Ferry\n",
       "2   3  1989  NBA   1   3  SAS    Sean Elliott\n",
       "3   4  1989  NBA   1   4  MIA       Glen Rice\n",
       "4   5  1989  NBA   1   5  CHH       J.R. Reid"
      ]
     },
     "execution_count": 17,
     "metadata": {},
     "output_type": "execute_result"
    }
   ],
   "source": [
    "draftListRaw.head()"
   ]
  },
  {
   "cell_type": "code",
   "execution_count": 169,
   "metadata": {},
   "outputs": [],
   "source": [
    "#Tapering down and merging the raw data into one dataframe.\n",
    "#seasonData does not account for players that were drafted but didn't play in the NBA. Which is why we need to join on draftList\n",
    "draftList = draftListRaw[['Player', 'Year', 'Pk']]\n",
    "seasonData = seasonDataRaw[['Player', 'Season', 'WS', 'Draft Year', 'Pick']]\n",
    "df0 = pd.merge(draftList, seasonData\n",
    "               , left_on=['Year', 'Pk']\n",
    "               , right_on= ['Draft Year', 'Pick']\n",
    "               , how = 'left')"
   ]
  },
  {
   "cell_type": "code",
   "execution_count": 170,
   "metadata": {},
   "outputs": [
    {
     "data": {
      "text/html": [
       "<div>\n",
       "<style scoped>\n",
       "    .dataframe tbody tr th:only-of-type {\n",
       "        vertical-align: middle;\n",
       "    }\n",
       "\n",
       "    .dataframe tbody tr th {\n",
       "        vertical-align: top;\n",
       "    }\n",
       "\n",
       "    .dataframe thead th {\n",
       "        text-align: right;\n",
       "    }\n",
       "</style>\n",
       "<table border=\"1\" class=\"dataframe\">\n",
       "  <thead>\n",
       "    <tr style=\"text-align: right;\">\n",
       "      <th></th>\n",
       "      <th>Player_x</th>\n",
       "      <th>Year</th>\n",
       "      <th>Pk</th>\n",
       "      <th>Player_y</th>\n",
       "      <th>Season</th>\n",
       "      <th>WS</th>\n",
       "      <th>Draft Year</th>\n",
       "      <th>Pick</th>\n",
       "    </tr>\n",
       "  </thead>\n",
       "  <tbody>\n",
       "    <tr>\n",
       "      <th>0</th>\n",
       "      <td>Pervis Ellison</td>\n",
       "      <td>1989</td>\n",
       "      <td>1</td>\n",
       "      <td>Pervis Ellison</td>\n",
       "      <td>1989-90</td>\n",
       "      <td>0.4</td>\n",
       "      <td>1989.0</td>\n",
       "      <td>1.0</td>\n",
       "    </tr>\n",
       "    <tr>\n",
       "      <th>1</th>\n",
       "      <td>Pervis Ellison</td>\n",
       "      <td>1989</td>\n",
       "      <td>1</td>\n",
       "      <td>Pervis Ellison</td>\n",
       "      <td>1990-91</td>\n",
       "      <td>4.0</td>\n",
       "      <td>1989.0</td>\n",
       "      <td>1.0</td>\n",
       "    </tr>\n",
       "    <tr>\n",
       "      <th>2</th>\n",
       "      <td>Pervis Ellison</td>\n",
       "      <td>1989</td>\n",
       "      <td>1</td>\n",
       "      <td>Pervis Ellison</td>\n",
       "      <td>1991-92</td>\n",
       "      <td>6.9</td>\n",
       "      <td>1989.0</td>\n",
       "      <td>1.0</td>\n",
       "    </tr>\n",
       "    <tr>\n",
       "      <th>3</th>\n",
       "      <td>Pervis Ellison</td>\n",
       "      <td>1989</td>\n",
       "      <td>1</td>\n",
       "      <td>Pervis Ellison</td>\n",
       "      <td>1992-93</td>\n",
       "      <td>3.9</td>\n",
       "      <td>1989.0</td>\n",
       "      <td>1.0</td>\n",
       "    </tr>\n",
       "    <tr>\n",
       "      <th>4</th>\n",
       "      <td>Pervis Ellison</td>\n",
       "      <td>1989</td>\n",
       "      <td>1</td>\n",
       "      <td>Pervis Ellison</td>\n",
       "      <td>1993-94</td>\n",
       "      <td>0.7</td>\n",
       "      <td>1989.0</td>\n",
       "      <td>1.0</td>\n",
       "    </tr>\n",
       "  </tbody>\n",
       "</table>\n",
       "</div>"
      ],
      "text/plain": [
       "         Player_x  Year  Pk        Player_y   Season   WS  Draft Year  Pick\n",
       "0  Pervis Ellison  1989   1  Pervis Ellison  1989-90  0.4      1989.0   1.0\n",
       "1  Pervis Ellison  1989   1  Pervis Ellison  1990-91  4.0      1989.0   1.0\n",
       "2  Pervis Ellison  1989   1  Pervis Ellison  1991-92  6.9      1989.0   1.0\n",
       "3  Pervis Ellison  1989   1  Pervis Ellison  1992-93  3.9      1989.0   1.0\n",
       "4  Pervis Ellison  1989   1  Pervis Ellison  1993-94  0.7      1989.0   1.0"
      ]
     },
     "execution_count": 170,
     "metadata": {},
     "output_type": "execute_result"
    }
   ],
   "source": [
    "df0.head()"
   ]
  },
  {
   "cell_type": "code",
   "execution_count": 171,
   "metadata": {},
   "outputs": [],
   "source": [
    "#Cleaning and creating a final dataframe\n",
    "df = df0[['Player_x', 'Season', 'WS', 'Year', 'Pk']]\n",
    "df = df.rename(columns={'Player_x': 'Player'})\n",
    "#Adding an ID column as there are some players with the same name (Ex: 'Michael Johnson')\n",
    "df['ID'] = df['Year'].astype(str) + df['Pk'].astype(str).str.zfill(2)"
   ]
  },
  {
   "cell_type": "code",
   "execution_count": 172,
   "metadata": {},
   "outputs": [
    {
     "data": {
      "text/html": [
       "<div>\n",
       "<style scoped>\n",
       "    .dataframe tbody tr th:only-of-type {\n",
       "        vertical-align: middle;\n",
       "    }\n",
       "\n",
       "    .dataframe tbody tr th {\n",
       "        vertical-align: top;\n",
       "    }\n",
       "\n",
       "    .dataframe thead th {\n",
       "        text-align: right;\n",
       "    }\n",
       "</style>\n",
       "<table border=\"1\" class=\"dataframe\">\n",
       "  <thead>\n",
       "    <tr style=\"text-align: right;\">\n",
       "      <th></th>\n",
       "      <th>Player</th>\n",
       "      <th>Season</th>\n",
       "      <th>WS</th>\n",
       "      <th>Year</th>\n",
       "      <th>Pk</th>\n",
       "      <th>ID</th>\n",
       "    </tr>\n",
       "  </thead>\n",
       "  <tbody>\n",
       "    <tr>\n",
       "      <th>0</th>\n",
       "      <td>Pervis Ellison</td>\n",
       "      <td>1989-90</td>\n",
       "      <td>0.4</td>\n",
       "      <td>1989</td>\n",
       "      <td>1</td>\n",
       "      <td>198901</td>\n",
       "    </tr>\n",
       "    <tr>\n",
       "      <th>1</th>\n",
       "      <td>Pervis Ellison</td>\n",
       "      <td>1990-91</td>\n",
       "      <td>4.0</td>\n",
       "      <td>1989</td>\n",
       "      <td>1</td>\n",
       "      <td>198901</td>\n",
       "    </tr>\n",
       "    <tr>\n",
       "      <th>2</th>\n",
       "      <td>Pervis Ellison</td>\n",
       "      <td>1991-92</td>\n",
       "      <td>6.9</td>\n",
       "      <td>1989</td>\n",
       "      <td>1</td>\n",
       "      <td>198901</td>\n",
       "    </tr>\n",
       "    <tr>\n",
       "      <th>3</th>\n",
       "      <td>Pervis Ellison</td>\n",
       "      <td>1992-93</td>\n",
       "      <td>3.9</td>\n",
       "      <td>1989</td>\n",
       "      <td>1</td>\n",
       "      <td>198901</td>\n",
       "    </tr>\n",
       "    <tr>\n",
       "      <th>4</th>\n",
       "      <td>Pervis Ellison</td>\n",
       "      <td>1993-94</td>\n",
       "      <td>0.7</td>\n",
       "      <td>1989</td>\n",
       "      <td>1</td>\n",
       "      <td>198901</td>\n",
       "    </tr>\n",
       "  </tbody>\n",
       "</table>\n",
       "</div>"
      ],
      "text/plain": [
       "           Player   Season   WS  Year  Pk      ID\n",
       "0  Pervis Ellison  1989-90  0.4  1989   1  198901\n",
       "1  Pervis Ellison  1990-91  4.0  1989   1  198901\n",
       "2  Pervis Ellison  1991-92  6.9  1989   1  198901\n",
       "3  Pervis Ellison  1992-93  3.9  1989   1  198901\n",
       "4  Pervis Ellison  1993-94  0.7  1989   1  198901"
      ]
     },
     "execution_count": 172,
     "metadata": {},
     "output_type": "execute_result"
    }
   ],
   "source": [
    "df.head()"
   ]
  },
  {
   "cell_type": "code",
   "execution_count": 173,
   "metadata": {},
   "outputs": [
    {
     "name": "stderr",
     "output_type": "stream",
     "text": [
      "<ipython-input-173-a72707768786>:1: UserWarning: Pandas requires version '1.4.3' or newer of 'xlsxwriter' (version '1.3.8' currently installed).\n",
      "  df.to_excel('WS_All.xlsx')\n"
     ]
    }
   ],
   "source": [
    "#Saving as an excel file\n",
    "df.to_excel('WS_All.xlsx')"
   ]
  },
  {
   "cell_type": "code",
   "execution_count": 174,
   "metadata": {},
   "outputs": [],
   "source": [
    "def playerPrime(df, id, b, n):\n",
    "#This function returns n number of a players best seasons best seasons based on statistic b\n",
    "    df['WS'] = df['WS'].fillna(0)\n",
    "    prime = df.groupby(id, dropna=False)[b].nlargest(n).groupby(id).sum()\n",
    "    df_noDup = df[['Player', 'ID', 'WS', 'Year', 'Pk']].drop_duplicates(subset=['ID']) \n",
    "    df_merge = pd.merge(prime, df_noDup, left_on=['ID'], right_on= ['ID'], how = 'left')\n",
    "    df_merge = df_merge.rename(columns={'WS_x': 'Prime_WS'})\n",
    "    df_prime = df_merge[['Player', 'Prime_WS', 'Year', 'Pk', 'ID']]\n",
    "    return(df_prime)\n"
   ]
  },
  {
   "cell_type": "code",
   "execution_count": 175,
   "metadata": {},
   "outputs": [
    {
     "name": "stderr",
     "output_type": "stream",
     "text": [
      "<ipython-input-175-ef14056be805>:3: UserWarning: Pandas requires version '1.4.3' or newer of 'xlsxwriter' (version '1.3.8' currently installed).\n",
      "  df_prime.to_excel('WS_Prime.xlsx')\n"
     ]
    },
    {
     "data": {
      "text/html": [
       "<div>\n",
       "<style scoped>\n",
       "    .dataframe tbody tr th:only-of-type {\n",
       "        vertical-align: middle;\n",
       "    }\n",
       "\n",
       "    .dataframe tbody tr th {\n",
       "        vertical-align: top;\n",
       "    }\n",
       "\n",
       "    .dataframe thead th {\n",
       "        text-align: right;\n",
       "    }\n",
       "</style>\n",
       "<table border=\"1\" class=\"dataframe\">\n",
       "  <thead>\n",
       "    <tr style=\"text-align: right;\">\n",
       "      <th></th>\n",
       "      <th>Player</th>\n",
       "      <th>Prime_WS</th>\n",
       "      <th>Year</th>\n",
       "      <th>Pk</th>\n",
       "      <th>ID</th>\n",
       "    </tr>\n",
       "  </thead>\n",
       "  <tbody>\n",
       "    <tr>\n",
       "      <th>0</th>\n",
       "      <td>Pervis Ellison</td>\n",
       "      <td>19.2</td>\n",
       "      <td>1989</td>\n",
       "      <td>1</td>\n",
       "      <td>198901</td>\n",
       "    </tr>\n",
       "    <tr>\n",
       "      <th>1</th>\n",
       "      <td>Danny Ferry</td>\n",
       "      <td>22.7</td>\n",
       "      <td>1989</td>\n",
       "      <td>2</td>\n",
       "      <td>198902</td>\n",
       "    </tr>\n",
       "    <tr>\n",
       "      <th>2</th>\n",
       "      <td>Sean Elliott</td>\n",
       "      <td>39.7</td>\n",
       "      <td>1989</td>\n",
       "      <td>3</td>\n",
       "      <td>198903</td>\n",
       "    </tr>\n",
       "    <tr>\n",
       "      <th>3</th>\n",
       "      <td>Glen Rice</td>\n",
       "      <td>49.3</td>\n",
       "      <td>1989</td>\n",
       "      <td>4</td>\n",
       "      <td>198904</td>\n",
       "    </tr>\n",
       "    <tr>\n",
       "      <th>4</th>\n",
       "      <td>J.R. Reid</td>\n",
       "      <td>14.9</td>\n",
       "      <td>1989</td>\n",
       "      <td>5</td>\n",
       "      <td>198905</td>\n",
       "    </tr>\n",
       "  </tbody>\n",
       "</table>\n",
       "</div>"
      ],
      "text/plain": [
       "           Player  Prime_WS  Year  Pk      ID\n",
       "0  Pervis Ellison      19.2  1989   1  198901\n",
       "1     Danny Ferry      22.7  1989   2  198902\n",
       "2    Sean Elliott      39.7  1989   3  198903\n",
       "3       Glen Rice      49.3  1989   4  198904\n",
       "4       J.R. Reid      14.9  1989   5  198905"
      ]
     },
     "execution_count": 175,
     "metadata": {},
     "output_type": "execute_result"
    }
   ],
   "source": [
    "#Saving as an excel file and creating a new dataframe\n",
    "df_prime = playerPrime(df, 'ID', 'WS', 5)\n",
    "df_prime.to_excel('WS_Prime.xlsx')\n",
    "\n",
    "df_prime.head()"
   ]
  },
  {
   "cell_type": "code",
   "execution_count": 177,
   "metadata": {},
   "outputs": [
    {
     "name": "stdout",
     "output_type": "stream",
     "text": [
      "There are 23 draft classes and 1322 players in our data set.\n"
     ]
    }
   ],
   "source": [
    "playerCount, classCount = df_prime['ID'].nunique(), df_prime['Year'].nunique()\n",
    "\n",
    "print(f'There are ' +str(classCount)+ ' draft classes and ' +str(playerCount)+' players in our data set.')"
   ]
  },
  {
   "cell_type": "markdown",
   "metadata": {},
   "source": [
    "## 3.0 Analysis"
   ]
  },
  {
   "cell_type": "markdown",
   "metadata": {},
   "source": [
    "### 3.1 Draft Position vs. Prime Wins: Ordinary Least Squares"
   ]
  },
  {
   "cell_type": "code",
   "execution_count": 149,
   "metadata": {},
   "outputs": [],
   "source": [
    "#Importing statistical and visualization packages\n",
    "import matplotlib.pyplot as plt\n",
    "import seaborn as sns\n",
    "import statsmodels.api as sm\n",
    "from statsmodels.formula.api import ols"
   ]
  },
  {
   "cell_type": "code",
   "execution_count": 150,
   "metadata": {},
   "outputs": [
    {
     "data": {
      "text/html": [
       "<table class=\"simpletable\">\n",
       "<caption>OLS Regression Results</caption>\n",
       "<tr>\n",
       "  <th>Dep. Variable:</th>        <td>Prime_WS</td>     <th>  R-squared:         </th> <td>   0.267</td> \n",
       "</tr>\n",
       "<tr>\n",
       "  <th>Model:</th>                   <td>OLS</td>       <th>  Adj. R-squared:    </th> <td>   0.267</td> \n",
       "</tr>\n",
       "<tr>\n",
       "  <th>Method:</th>             <td>Least Squares</td>  <th>  F-statistic:       </th> <td>   481.9</td> \n",
       "</tr>\n",
       "<tr>\n",
       "  <th>Date:</th>             <td>Wed, 14 May 2025</td> <th>  Prob (F-statistic):</th> <td>2.66e-91</td> \n",
       "</tr>\n",
       "<tr>\n",
       "  <th>Time:</th>                 <td>14:02:34</td>     <th>  Log-Likelihood:    </th> <td> -5314.5</td> \n",
       "</tr>\n",
       "<tr>\n",
       "  <th>No. Observations:</th>      <td>  1322</td>      <th>  AIC:               </th> <td>1.063e+04</td>\n",
       "</tr>\n",
       "<tr>\n",
       "  <th>Df Residuals:</th>          <td>  1320</td>      <th>  BIC:               </th> <td>1.064e+04</td>\n",
       "</tr>\n",
       "<tr>\n",
       "  <th>Df Model:</th>              <td>     1</td>      <th>                     </th>     <td> </td>    \n",
       "</tr>\n",
       "<tr>\n",
       "  <th>Covariance Type:</th>      <td>nonrobust</td>    <th>                     </th>     <td> </td>    \n",
       "</tr>\n",
       "</table>\n",
       "<table class=\"simpletable\">\n",
       "<tr>\n",
       "      <td></td>         <th>coef</th>     <th>std err</th>      <th>t</th>      <th>P>|t|</th>  <th>[0.025</th>    <th>0.975]</th>  \n",
       "</tr>\n",
       "<tr>\n",
       "  <th>Intercept</th> <td>   26.1452</td> <td>    0.750</td> <td>   34.881</td> <td> 0.000</td> <td>   24.675</td> <td>   27.616</td>\n",
       "</tr>\n",
       "<tr>\n",
       "  <th>Pk</th>        <td>   -0.4875</td> <td>    0.022</td> <td>  -21.952</td> <td> 0.000</td> <td>   -0.531</td> <td>   -0.444</td>\n",
       "</tr>\n",
       "</table>\n",
       "<table class=\"simpletable\">\n",
       "<tr>\n",
       "  <th>Omnibus:</th>       <td>276.726</td> <th>  Durbin-Watson:     </th> <td>   1.817</td> \n",
       "</tr>\n",
       "<tr>\n",
       "  <th>Prob(Omnibus):</th> <td> 0.000</td>  <th>  Jarque-Bera (JB):  </th> <td> 561.786</td> \n",
       "</tr>\n",
       "<tr>\n",
       "  <th>Skew:</th>          <td> 1.207</td>  <th>  Prob(JB):          </th> <td>1.02e-122</td>\n",
       "</tr>\n",
       "<tr>\n",
       "  <th>Kurtosis:</th>      <td> 5.090</td>  <th>  Cond. No.          </th> <td>    68.2</td> \n",
       "</tr>\n",
       "</table><br/><br/>Notes:<br/>[1] Standard Errors assume that the covariance matrix of the errors is correctly specified."
      ],
      "text/latex": [
       "\\begin{center}\n",
       "\\begin{tabular}{lclc}\n",
       "\\toprule\n",
       "\\textbf{Dep. Variable:}    &    Prime\\_WS     & \\textbf{  R-squared:         } &     0.267   \\\\\n",
       "\\textbf{Model:}            &       OLS        & \\textbf{  Adj. R-squared:    } &     0.267   \\\\\n",
       "\\textbf{Method:}           &  Least Squares   & \\textbf{  F-statistic:       } &     481.9   \\\\\n",
       "\\textbf{Date:}             & Wed, 14 May 2025 & \\textbf{  Prob (F-statistic):} &  2.66e-91   \\\\\n",
       "\\textbf{Time:}             &     14:02:34     & \\textbf{  Log-Likelihood:    } &   -5314.5   \\\\\n",
       "\\textbf{No. Observations:} &        1322      & \\textbf{  AIC:               } & 1.063e+04   \\\\\n",
       "\\textbf{Df Residuals:}     &        1320      & \\textbf{  BIC:               } & 1.064e+04   \\\\\n",
       "\\textbf{Df Model:}         &           1      & \\textbf{                     } &             \\\\\n",
       "\\textbf{Covariance Type:}  &    nonrobust     & \\textbf{                     } &             \\\\\n",
       "\\bottomrule\n",
       "\\end{tabular}\n",
       "\\begin{tabular}{lcccccc}\n",
       "                   & \\textbf{coef} & \\textbf{std err} & \\textbf{t} & \\textbf{P$> |$t$|$} & \\textbf{[0.025} & \\textbf{0.975]}  \\\\\n",
       "\\midrule\n",
       "\\textbf{Intercept} &      26.1452  &        0.750     &    34.881  &         0.000        &       24.675    &       27.616     \\\\\n",
       "\\textbf{Pk}        &      -0.4875  &        0.022     &   -21.952  &         0.000        &       -0.531    &       -0.444     \\\\\n",
       "\\bottomrule\n",
       "\\end{tabular}\n",
       "\\begin{tabular}{lclc}\n",
       "\\textbf{Omnibus:}       & 276.726 & \\textbf{  Durbin-Watson:     } &     1.817  \\\\\n",
       "\\textbf{Prob(Omnibus):} &   0.000 & \\textbf{  Jarque-Bera (JB):  } &   561.786  \\\\\n",
       "\\textbf{Skew:}          &   1.207 & \\textbf{  Prob(JB):          } & 1.02e-122  \\\\\n",
       "\\textbf{Kurtosis:}      &   5.090 & \\textbf{  Cond. No.          } &      68.2  \\\\\n",
       "\\bottomrule\n",
       "\\end{tabular}\n",
       "%\\caption{OLS Regression Results}\n",
       "\\end{center}\n",
       "\n",
       "Notes: \\newline\n",
       " [1] Standard Errors assume that the covariance matrix of the errors is correctly specified."
      ],
      "text/plain": [
       "<class 'statsmodels.iolib.summary.Summary'>\n",
       "\"\"\"\n",
       "                            OLS Regression Results                            \n",
       "==============================================================================\n",
       "Dep. Variable:               Prime_WS   R-squared:                       0.267\n",
       "Model:                            OLS   Adj. R-squared:                  0.267\n",
       "Method:                 Least Squares   F-statistic:                     481.9\n",
       "Date:                Wed, 14 May 2025   Prob (F-statistic):           2.66e-91\n",
       "Time:                        14:02:34   Log-Likelihood:                -5314.5\n",
       "No. Observations:                1322   AIC:                         1.063e+04\n",
       "Df Residuals:                    1320   BIC:                         1.064e+04\n",
       "Df Model:                           1                                         \n",
       "Covariance Type:            nonrobust                                         \n",
       "==============================================================================\n",
       "                 coef    std err          t      P>|t|      [0.025      0.975]\n",
       "------------------------------------------------------------------------------\n",
       "Intercept     26.1452      0.750     34.881      0.000      24.675      27.616\n",
       "Pk            -0.4875      0.022    -21.952      0.000      -0.531      -0.444\n",
       "==============================================================================\n",
       "Omnibus:                      276.726   Durbin-Watson:                   1.817\n",
       "Prob(Omnibus):                  0.000   Jarque-Bera (JB):              561.786\n",
       "Skew:                           1.207   Prob(JB):                    1.02e-122\n",
       "Kurtosis:                       5.090   Cond. No.                         68.2\n",
       "==============================================================================\n",
       "\n",
       "Notes:\n",
       "[1] Standard Errors assume that the covariance matrix of the errors is correctly specified.\n",
       "\"\"\""
      ]
     },
     "execution_count": 150,
     "metadata": {},
     "output_type": "execute_result"
    }
   ],
   "source": [
    "# Creating OLS model\n",
    "ols_formula = 'Prime_WS ~ Pk'\n",
    "OLS = ols(formula = ols_formula, data = df_prime)\n",
    "model = OLS.fit()\n",
    "model_results = model.summary()\n",
    "# Display the model results.\n",
    "model_results"
   ]
  },
  {
   "cell_type": "code",
   "execution_count": 151,
   "metadata": {},
   "outputs": [
    {
     "data": {
      "text/plain": [
       "Text(0, 0.5, 'Prime Wins')"
      ]
     },
     "execution_count": 151,
     "metadata": {},
     "output_type": "execute_result"
    },
    {
     "data": {
      "image/png": "[encoded data removed]",
      "text/plain": [
       "<Figure size 432x288 with 1 Axes>"
      ]
     },
     "metadata": {
      "needs_background": "light"
     },
     "output_type": "display_data"
    }
   ],
   "source": [
    "sns.scatterplot(x=df_prime['Pk'], y=df_prime['Prime_WS'])\n",
    "plt.title('Draft Position vs. Prime Wins')\n",
    "plt.xlabel('Draft Pick')\n",
    "plt.ylabel('Prime Wins')"
   ]
  },
  {
   "cell_type": "markdown",
   "metadata": {},
   "source": [
    "### 3.1.1 Linear Analysis: Initial Thoughts\n",
    "\n",
    "The above shows all of the players plotted by their Draft Position & Prime Win Shares, a ordinarly least squares regression has also been applied to our data.\n",
    "\n",
    "We *do* see that 'Pk'/'Draft Position' has a coefficent of **-0.4875** , signaling that teams generally select players that produce more Prime Wins earlier in the draft. We are able to generally oserve this trend from the scatterplot as well. The $R^2$ value is pretty weak at **0.267**.\n",
    "\n",
    "Our current linear model is poorly describing our dataset. I am curious if applying a transform can improve our model, but I will test our below assumptions first to see if there is any additional insight I can gather from this analysis\n",
    "\n",
    "    1. Linearity\n",
    "    2. Independance\n",
    "    3. Normality\n",
    "    4. Homoscedasticity "
   ]
  },
  {
   "cell_type": "markdown",
   "metadata": {},
   "source": [
    "#### Assumption 1: Linearity\n",
    "\n",
    "There is not a super clear pattern of the scatter from the below residual plot. Many players have close to 0 prime Win Shares, however that is to be expected given how I decided to set drafted players w/o playing time to having 0 prime Win Shares"
   ]
  },
  {
   "cell_type": "code",
   "execution_count": 152,
   "metadata": {},
   "outputs": [
    {
     "data": {
      "text/plain": [
       "Text(0.5, 1.0, 'Residual Plot')"
      ]
     },
     "execution_count": 152,
     "metadata": {},
     "output_type": "execute_result"
    },
    {
     "data": {
      "image/png": "[encoded data removed]",
      "text/plain": [
       "<Figure size 432x288 with 1 Axes>"
      ]
     },
     "metadata": {
      "needs_background": "light"
     },
     "output_type": "display_data"
    }
   ],
   "source": [
    "sns.residplot(x=df_prime['Pk'], y=df_prime['Prime_WS'], lowess=True)\n",
    "plt.xlabel(\"Fitted values\")\n",
    "plt.ylabel(\"Residuals\")\n",
    "plt.title(\"Residual Plot\")"
   ]
  },
  {
   "cell_type": "markdown",
   "metadata": {},
   "source": [
    "#### Assumption 2: Independance \n",
    "\n",
    "Admittedly, each draft pick (within the same draft) is NOT entirely independent of the other, but picks from one class to the other should be independent of one another, and for the purposes of our analysis, this could be sufficiently independent.\n",
    "\n",
    "**Our Durbin-Watson metric of 1.817** from the above OLS Regression Results (section 3.1), indicate that there is no autocorrelation and therefore the observations are independent as this metric is between 1.5 to 2.5."
   ]
  },
  {
   "cell_type": "markdown",
   "metadata": {},
   "source": [
    "#### Assumption 3: Normality\n",
    "\n",
    "Based on the Histogram and the Q-Q plot, we observe a strong right skew and some concavity. To address this skewness and better approximate normality, a **log transformation should be applied to the data**."
   ]
  },
  {
   "cell_type": "code",
   "execution_count": 165,
   "metadata": {},
   "outputs": [
    {
     "data": {
      "text/plain": [
       "Text(0.5, 1.0, 'Normal Q-Q plot')"
      ]
     },
     "execution_count": 165,
     "metadata": {},
     "output_type": "execute_result"
    },
    {
     "data": {
      "image/png": "[encoded data removed]",
      "text/plain": [
       "<Figure size 1152x432 with 2 Axes>"
      ]
     },
     "metadata": {
      "needs_background": "light"
     },
     "output_type": "display_data"
    }
   ],
   "source": [
    "fig, axes = plt.subplots(1, 2, figsize=(16, 6)) # 1 row, 2 columns\n",
    "\n",
    "residuals = model.resid\n",
    "sns.histplot(residuals, ax = axes[0])\n",
    "axes[0].set_title('Histogram of Residuals')\n",
    "\n",
    "sm.qqplot(residuals, line='s', ax = axes[1]);\n",
    "plt.title('Normal Q-Q plot')"
   ]
  },
  {
   "cell_type": "markdown",
   "metadata": {},
   "source": [
    "## 3.2 Draft Position vs. Prime Wins:  Log Transformation\n",
    "\n",
    "From a narrative perspective, an inverse logarithmic relationship between Draft Position and Prime Wins would make sense as the league tends to be somewhat \"top heavy\" between players when investigating most statistics. On [Basketball-Reference.com][2], it even states that when looking at BPM, \"there are far more below-average players than above-average players in the league at any time\".\n",
    "\n",
    "If we ignore undrafted players and assume draft pools mimic the player pool of the entire NBA, we can excpect each draft to be comprised of a few strong performers, while most of the draft is made up of less impactful players. Hence, \\***there can be a large difference between selecting 1st and selecting 5th**.\n",
    "\n",
    "On the other side, the difference between **the 55th and 60th picks may be relatively small** for somewhat related reasons. Towards the end of the draft, so more draftees also become \"non-players\" in our dataset. Whether these picks are were caught in a contract with another league, or just weren't impressing NBA teams, many later picks end up with 0 Prime Win Shares in our dataset.\n",
    "\n",
    "This might \"dampen' the value of later draft picks and might keep the average measure of Prime Wins closer to 0 for the later draft positions.\n",
    "\n",
    "[2]:https://www.basketball-reference.com/about/bpm2.html"
   ]
  },
  {
   "cell_type": "markdown",
   "metadata": {},
   "source": [
    "\\* Note: Aiming to find one value for a specific draft position is also pretty unreasonable since every draft class is different. High draft picks will hold inconsistent value from year to year depending on the strength of the prospects. The 1st overall pick in particular has varied wildly over the years. Even at the time of their respective drafts, LeBron James was a very different prospect from someone like Anthony Bennet, Andrea Bargnani, or even LeBron's own teammate Anthony Davis."
   ]
  },
  {
   "cell_type": "markdown",
   "metadata": {},
   "source": [
    "### 3.2.1 Draft Position vs. log(Prime Wins) Results:"
   ]
  },
  {
   "cell_type": "code",
   "execution_count": 155,
   "metadata": {},
   "outputs": [],
   "source": [
    "#Applying the log transform\n",
    "df_prime['log_PrimeWS'] = np.log(df_prime['Prime_WS']+(abs(df_prime['Prime_WS'].min())+1))"
   ]
  },
  {
   "cell_type": "code",
   "execution_count": 156,
   "metadata": {},
   "outputs": [
    {
     "data": {
      "text/html": [
       "<table class=\"simpletable\">\n",
       "<caption>OLS Regression Results</caption>\n",
       "<tr>\n",
       "  <th>Dep. Variable:</th>       <td>log_PrimeWS</td>   <th>  R-squared:         </th> <td>   0.306</td> \n",
       "</tr>\n",
       "<tr>\n",
       "  <th>Model:</th>                   <td>OLS</td>       <th>  Adj. R-squared:    </th> <td>   0.305</td> \n",
       "</tr>\n",
       "<tr>\n",
       "  <th>Method:</th>             <td>Least Squares</td>  <th>  F-statistic:       </th> <td>   581.5</td> \n",
       "</tr>\n",
       "<tr>\n",
       "  <th>Date:</th>             <td>Wed, 14 May 2025</td> <th>  Prob (F-statistic):</th> <td>9.44e-107</td>\n",
       "</tr>\n",
       "<tr>\n",
       "  <th>Time:</th>                 <td>14:02:53</td>     <th>  Log-Likelihood:    </th> <td> -1756.7</td> \n",
       "</tr>\n",
       "<tr>\n",
       "  <th>No. Observations:</th>      <td>  1322</td>      <th>  AIC:               </th> <td>   3517.</td> \n",
       "</tr>\n",
       "<tr>\n",
       "  <th>Df Residuals:</th>          <td>  1320</td>      <th>  BIC:               </th> <td>   3528.</td> \n",
       "</tr>\n",
       "<tr>\n",
       "  <th>Df Model:</th>              <td>     1</td>      <th>                     </th>     <td> </td>    \n",
       "</tr>\n",
       "<tr>\n",
       "  <th>Covariance Type:</th>      <td>nonrobust</td>    <th>                     </th>     <td> </td>    \n",
       "</tr>\n",
       "</table>\n",
       "<table class=\"simpletable\">\n",
       "<tr>\n",
       "      <td></td>         <th>coef</th>     <th>std err</th>      <th>t</th>      <th>P>|t|</th>  <th>[0.025</th>    <th>0.975]</th>  \n",
       "</tr>\n",
       "<tr>\n",
       "  <th>Intercept</th> <td>    3.1558</td> <td>    0.051</td> <td>   62.098</td> <td> 0.000</td> <td>    3.056</td> <td>    3.256</td>\n",
       "</tr>\n",
       "<tr>\n",
       "  <th>Pk</th>        <td>   -0.0363</td> <td>    0.002</td> <td>  -24.114</td> <td> 0.000</td> <td>   -0.039</td> <td>   -0.033</td>\n",
       "</tr>\n",
       "</table>\n",
       "<table class=\"simpletable\">\n",
       "<tr>\n",
       "  <th>Omnibus:</th>       <td>17.383</td> <th>  Durbin-Watson:     </th> <td>   1.910</td>\n",
       "</tr>\n",
       "<tr>\n",
       "  <th>Prob(Omnibus):</th> <td> 0.000</td> <th>  Jarque-Bera (JB):  </th> <td>  13.971</td>\n",
       "</tr>\n",
       "<tr>\n",
       "  <th>Skew:</th>          <td> 0.170</td> <th>  Prob(JB):          </th> <td>0.000925</td>\n",
       "</tr>\n",
       "<tr>\n",
       "  <th>Kurtosis:</th>      <td> 2.629</td> <th>  Cond. No.          </th> <td>    68.2</td>\n",
       "</tr>\n",
       "</table><br/><br/>Notes:<br/>[1] Standard Errors assume that the covariance matrix of the errors is correctly specified."
      ],
      "text/latex": [
       "\\begin{center}\n",
       "\\begin{tabular}{lclc}\n",
       "\\toprule\n",
       "\\textbf{Dep. Variable:}    &   log\\_PrimeWS   & \\textbf{  R-squared:         } &     0.306   \\\\\n",
       "\\textbf{Model:}            &       OLS        & \\textbf{  Adj. R-squared:    } &     0.305   \\\\\n",
       "\\textbf{Method:}           &  Least Squares   & \\textbf{  F-statistic:       } &     581.5   \\\\\n",
       "\\textbf{Date:}             & Wed, 14 May 2025 & \\textbf{  Prob (F-statistic):} & 9.44e-107   \\\\\n",
       "\\textbf{Time:}             &     14:02:53     & \\textbf{  Log-Likelihood:    } &   -1756.7   \\\\\n",
       "\\textbf{No. Observations:} &        1322      & \\textbf{  AIC:               } &     3517.   \\\\\n",
       "\\textbf{Df Residuals:}     &        1320      & \\textbf{  BIC:               } &     3528.   \\\\\n",
       "\\textbf{Df Model:}         &           1      & \\textbf{                     } &             \\\\\n",
       "\\textbf{Covariance Type:}  &    nonrobust     & \\textbf{                     } &             \\\\\n",
       "\\bottomrule\n",
       "\\end{tabular}\n",
       "\\begin{tabular}{lcccccc}\n",
       "                   & \\textbf{coef} & \\textbf{std err} & \\textbf{t} & \\textbf{P$> |$t$|$} & \\textbf{[0.025} & \\textbf{0.975]}  \\\\\n",
       "\\midrule\n",
       "\\textbf{Intercept} &       3.1558  &        0.051     &    62.098  &         0.000        &        3.056    &        3.256     \\\\\n",
       "\\textbf{Pk}        &      -0.0363  &        0.002     &   -24.114  &         0.000        &       -0.039    &       -0.033     \\\\\n",
       "\\bottomrule\n",
       "\\end{tabular}\n",
       "\\begin{tabular}{lclc}\n",
       "\\textbf{Omnibus:}       & 17.383 & \\textbf{  Durbin-Watson:     } &    1.910  \\\\\n",
       "\\textbf{Prob(Omnibus):} &  0.000 & \\textbf{  Jarque-Bera (JB):  } &   13.971  \\\\\n",
       "\\textbf{Skew:}          &  0.170 & \\textbf{  Prob(JB):          } & 0.000925  \\\\\n",
       "\\textbf{Kurtosis:}      &  2.629 & \\textbf{  Cond. No.          } &     68.2  \\\\\n",
       "\\bottomrule\n",
       "\\end{tabular}\n",
       "%\\caption{OLS Regression Results}\n",
       "\\end{center}\n",
       "\n",
       "Notes: \\newline\n",
       " [1] Standard Errors assume that the covariance matrix of the errors is correctly specified."
      ],
      "text/plain": [
       "<class 'statsmodels.iolib.summary.Summary'>\n",
       "\"\"\"\n",
       "                            OLS Regression Results                            \n",
       "==============================================================================\n",
       "Dep. Variable:            log_PrimeWS   R-squared:                       0.306\n",
       "Model:                            OLS   Adj. R-squared:                  0.305\n",
       "Method:                 Least Squares   F-statistic:                     581.5\n",
       "Date:                Wed, 14 May 2025   Prob (F-statistic):          9.44e-107\n",
       "Time:                        14:02:53   Log-Likelihood:                -1756.7\n",
       "No. Observations:                1322   AIC:                             3517.\n",
       "Df Residuals:                    1320   BIC:                             3528.\n",
       "Df Model:                           1                                         \n",
       "Covariance Type:            nonrobust                                         \n",
       "==============================================================================\n",
       "                 coef    std err          t      P>|t|      [0.025      0.975]\n",
       "------------------------------------------------------------------------------\n",
       "Intercept      3.1558      0.051     62.098      0.000       3.056       3.256\n",
       "Pk            -0.0363      0.002    -24.114      0.000      -0.039      -0.033\n",
       "==============================================================================\n",
       "Omnibus:                       17.383   Durbin-Watson:                   1.910\n",
       "Prob(Omnibus):                  0.000   Jarque-Bera (JB):               13.971\n",
       "Skew:                           0.170   Prob(JB):                     0.000925\n",
       "Kurtosis:                       2.629   Cond. No.                         68.2\n",
       "==============================================================================\n",
       "\n",
       "Notes:\n",
       "[1] Standard Errors assume that the covariance matrix of the errors is correctly specified.\n",
       "\"\"\""
      ]
     },
     "execution_count": 156,
     "metadata": {},
     "output_type": "execute_result"
    }
   ],
   "source": [
    "# Creating OLS model\n",
    "ols_formulaLOG = 'log_PrimeWS ~ Pk'\n",
    "OLSLog = ols(formula = ols_formulaLOG, data = df_prime)\n",
    "modelLog = OLSLog.fit()\n",
    "modelLog_results = modelLog.summary()\n",
    "# Display the model results.\n",
    "modelLog_results"
   ]
  },
  {
   "cell_type": "code",
   "execution_count": 157,
   "metadata": {
    "scrolled": true
   },
   "outputs": [
    {
     "data": {
      "text/plain": [
       "Text(0, 0.5, 'Prime Wins')"
      ]
     },
     "execution_count": 157,
     "metadata": {},
     "output_type": "execute_result"
    },
    {
     "data": {
      "image/png": "[encoded data removed]",
      "text/plain": [
       "<Figure size 432x288 with 1 Axes>"
      ]
     },
     "metadata": {
      "needs_background": "light"
     },
     "output_type": "display_data"
    }
   ],
   "source": [
    "sns.scatterplot(x=df_prime['Pk'], y=df_prime['log_PrimeWS'])\n",
    "plt.title('Draft Position vs. log(Prime Wins)')\n",
    "plt.xlabel('Draft Pick')\n",
    "plt.ylabel('Prime Wins')"
   ]
  },
  {
   "cell_type": "markdown",
   "metadata": {},
   "source": [
    "We return a marginally stronger $R^2$ of **0.306**, but that isn't a particularly strong predictor."
   ]
  },
  {
   "cell_type": "markdown",
   "metadata": {},
   "source": [
    "#### Assumption 1: Linearity"
   ]
  },
  {
   "cell_type": "code",
   "execution_count": 167,
   "metadata": {},
   "outputs": [
    {
     "data": {
      "text/plain": [
       "Text(0.5, 1.0, 'Residual Plot')"
      ]
     },
     "execution_count": 167,
     "metadata": {},
     "output_type": "execute_result"
    },
    {
     "data": {
      "image/png": "[encoded data removed]",
      "text/plain": [
       "<Figure size 432x288 with 1 Axes>"
      ]
     },
     "metadata": {
      "needs_background": "light"
     },
     "output_type": "display_data"
    }
   ],
   "source": [
    "sns.residplot(x=df_prime['Pk'], y=df_prime['log_PrimeWS'], lowess=True)\n",
    "plt.xlabel(\"Fitted values\")\n",
    "plt.ylabel(\"Residuals\")\n",
    "plt.title(\"Residual Plot\")"
   ]
  },
  {
   "cell_type": "markdown",
   "metadata": {},
   "source": [
    "#### Assumption 2: Independance \n",
    "\n",
    "Again **our Durbin-Watson metric** is between 1.5 to 2.5 (**1.910**). So we fulfill our assumption of independance"
   ]
  },
  {
   "cell_type": "markdown",
   "metadata": {},
   "source": [
    "#### Assumption 3: Normality cont.\n",
    "\n",
    "The historgram of residuals and QQ plot look much better now, things look approximately normal."
   ]
  },
  {
   "cell_type": "code",
   "execution_count": 166,
   "metadata": {},
   "outputs": [
    {
     "data": {
      "text/plain": [
       "Text(0.5, 1.0, 'Normal Q-Q plot')"
      ]
     },
     "execution_count": 166,
     "metadata": {},
     "output_type": "execute_result"
    },
    {
     "data": {
      "image/png": "[encoded data removed]",
      "text/plain": [
       "<Figure size 1152x432 with 2 Axes>"
      ]
     },
     "metadata": {
      "needs_background": "light"
     },
     "output_type": "display_data"
    }
   ],
   "source": [
    "fig, axes = plt.subplots(1, 2, figsize=(16, 6)) # 1 row, 2 columns\n",
    "\n",
    "residualsLog = modelLog.resid\n",
    "sns.histplot(residualsLog, ax = axes[0])\n",
    "axes[0].set_title('Histogram of Residuals')\n",
    "\n",
    "sm.qqplot(residualsLog, line='s', ax = axes[1]);\n",
    "plt.title('Normal Q-Q plot')"
   ]
  },
  {
   "cell_type": "markdown",
   "metadata": {},
   "source": [
    "### 3.4 Bagging\n",
    "\n",
    "Going to use bootstrap aggregation to reduce variance and build a model with more sampling"
   ]
  },
  {
   "cell_type": "code",
   "execution_count": 161,
   "metadata": {},
   "outputs": [],
   "source": [
    "from sklearn.utils import resample\n",
    "np.random.seed(34)\n",
    "\n",
    "coefs = []\n",
    "r2 = []\n",
    "equation = []\n",
    "\n",
    "for _ in range(50):\n",
    "    sample = df_prime.sample(n=len(df_prime), replace = True)\n",
    "    OLSSample = ols(formula = ols_formulaLOG, data = sample)\n",
    "    modelSample = OLSSample.fit()\n",
    "    \n",
    "    coefs.append(modelSample.params)\n",
    "    r2.append(modelSample.rsquared)\n",
    "    equation.append(\n",
    "        f'y = {modelSample.params[0]:.3f} + {modelSample.params[1]:.3f}x1'\n",
    "    )\n",
    "mean_coefs = np.mean(coefs, axis=0)"
   ]
  },
  {
   "cell_type": "code",
   "execution_count": 121,
   "metadata": {},
   "outputs": [
    {
     "name": "stdout",
     "output_type": "stream",
     "text": [
      "Bagged OLS Equation: log(Prime Wins) = 3.167 + -0.0366 * Draft Position\n",
      "Mean R²: 0.311 (±0.024)\n"
     ]
    }
   ],
   "source": [
    "print(f'Bagged OLS Equation: log(Prime Wins) = {mean_coefs[0]:.3f} + {mean_coefs[1]:.4f} * Draft Position')\n",
    "print(f'Mean R²: {np.mean(r2):.3f} (±{np.std(r2):.3f})')"
   ]
  },
  {
   "cell_type": "markdown",
   "metadata": {},
   "source": [
    "### 3.2.2 Applying our Model\n",
    "\n",
    "In this next section, I want to dive in to specific examples in NBA history where teams have traded draft picks.\n",
    "\n",
    "As mentioned previously, this model (as it stands currently) is not very precise or accurate, but this should be an interesting exercise."
   ]
  },
  {
   "cell_type": "markdown",
   "metadata": {},
   "source": [
    "#### Example 1: The 1995 Shawn Respert Trade\n",
    "\n",
    "June 28th 1995, the Detroit Pistons and the Portland Trail Blazers swapped a few selections that they had made that same day.\n",
    "\n",
    "This is a good trade to analyze, as these picks are all from the same draft, the draft position had already been known, and none of these draftees had played in the NBA yet so everyone was still an uncertain prospect.\n",
    "\n",
    "**Detroit Pistons**: \n",
    "* Traded Away: 1995 Pick \\#8. (i.e. Shawn Respert)\n",
    "* Recieved: 1995 Pick \\#18, 1995 Pick \\#19, and 1995 Pick \\#58. (i.e. Theo Ratliff, Randolph Childress, and Don Reid)\n",
    "\n",
    "**Portland Trail Blazers**:\n",
    "* Traded Away: 1995 Pick \\#18, 1995 Pick \\#19, and 1995 Pick \\#58. (i.e. Theo Ratliff, Randolph Childress, and Don Reid)\n",
    "* Recieved: 1995 Pick \\#8. (i.e. Shawn Respert)\n",
    "\n",
    "**Expected**: If we were to use our log transformed model to predict Prime Win Shares (Section 3.2)\n",
    "* Trail Blazers Recieved: \\#8. This pick is expected to provide **15.573 Prime Wins**\n",
    "* Pistons Received: \\#18, \\#19, and \\#58, These picks are expected to provide **19.219 Prime Wins**\n",
    "\n",
    "Our model suggests that the Blazers slightly lose this trade by around 3.646 Prime Wins (15.573 - 19.219). This is a pretty negligible margin, and this trade doesn't seem that bad/good for side.\n",
    "\n",
    "**Actual**:\n",
    "* Trail Blazers Recieved: Shawn Respert: 2.1\n",
    "* Pistons Received: Theo Ratliff: 28.1, Randolph Childress: -0.2, and Don Reid: 11.8\n",
    "\n",
    "In reality, the Trail Blazers lose this trade badly. None of the modeled values come very close to their respective projections anyway, so I'm not sure if I would've helped them very much.\n",
    "\n",
    "Who knew Sixers Legend Theo Ratliff would be such a beast."
   ]
  },
  {
   "cell_type": "markdown",
   "metadata": {},
   "source": [
    "## 3.3 What if Every Team Drafts Perfectly? (\"Re-draft\")\n",
    "\n",
    "With the first overall pick, every player is available to you. The second pick, every player minus 1. The third pick... so on and so forth. In a weird way, draft busts and steals only exist because of imperfect scouting/development.\n",
    "\n",
    "In our fantasy scenario, let's see what happens if we assume that each selection in every draft was \"perfect\": i.e. they took the \"best\" player availalbe every time (we're assuming that the players' careers play out the same way cuz yolo)."
   ]
  },
  {
   "cell_type": "code",
   "execution_count": 52,
   "metadata": {},
   "outputs": [],
   "source": [
    "def redraft(file):\n",
    "    df = pd.read_excel(file) #Read the excel file in as a dataframe\n",
    "    df = df.sort_values(by=['Draft Class','WS'], ascending=False, ignore_index=True) #Sort by Draft Class & Prime Wins\n",
    "    counts = df['Draft Class'].value_counts()\n",
    "    counts = counts.sort_index(ascending = False)\n",
    "    \n",
    "    redraft = []\n",
    "    for draftClass in range(len(counts)):\n",
    "        for pick in range(counts.iloc[draftClass]):\n",
    "            redraft.append(pick+1)\n",
    "    \n",
    "    df['ReDraft Position'] = redraft\n",
    "    df.to_excel('Redraft.xlsx', index=False)"
   ]
  },
  {
   "cell_type": "code",
   "execution_count": 53,
   "metadata": {},
   "outputs": [],
   "source": [
    "redraft(\"Prime_WS.xlsx\")"
   ]
  },
  {
   "cell_type": "code",
   "execution_count": 58,
   "metadata": {
    "scrolled": false
   },
   "outputs": [
    {
     "data": {
      "text/html": [
       "<iframe\n",
       "    scrolling=\"no\"\n",
       "    width=\"100%\"\n",
       "    height=\"545px\"\n",
       "    src=\"iframe_figures/figure_58.html\"\n",
       "    frameborder=\"0\"\n",
       "    allowfullscreen\n",
       "></iframe>\n"
      ]
     },
     "metadata": {},
     "output_type": "display_data"
    }
   ],
   "source": [
    "ScatterChart(\"Redraft.xlsx\", 'ReDraft Position','WS')"
   ]
  },
  {
   "cell_type": "code",
   "execution_count": 59,
   "metadata": {},
   "outputs": [
    {
     "name": "stdout",
     "output_type": "stream",
     "text": [
      "Prime WS = (-0.839443035229705 * Draft Position) + 36.448807257895915\n",
      "R^2: 0.7381229605116488\n"
     ]
    }
   ],
   "source": [
    "LinearEquation(\"Redraft.xlsx\", 'ReDraft Position' ,'WS')"
   ]
  },
  {
   "cell_type": "markdown",
   "metadata": {},
   "source": [
    "### 3.3.1 Re-Draft Results\n",
    "\n",
    "With the benefit of hindsight, the correlation is much stronger than before. We established before, however, that our fantasy \"Re-Draft\" that the relationship appears to be more logrithmic. What if we apply the log transform to this data set as well?"
   ]
  },
  {
   "cell_type": "markdown",
   "metadata": {},
   "source": [
    "### 3.3.2 Re-applying our Fantasy Model\n",
    "\n",
    "Let's revisit our previous example now: The 1995 Shawn Respert Trade."
   ]
  },
  {
   "cell_type": "code",
   "execution_count": 60,
   "metadata": {},
   "outputs": [],
   "source": [
    "def LogTransform (file,stat):\n",
    "    df = pd.read_excel(file) #Read the excel file in as a dataframe\n",
    "    df['log(' + stat + ')'] = np.log(df[stat]+(abs(df[stat].min())+1)) #Log Transform the data\n",
    "    df.to_excel('RePrime_logWS.xlsx', index=False) #Writing our transformed data in to a new Excel file\n",
    "\n",
    "LogTransform(\"Redraft.xlsx\", 'WS')"
   ]
  },
  {
   "cell_type": "code",
   "execution_count": 61,
   "metadata": {},
   "outputs": [
    {
     "data": {
      "text/html": [
       "<iframe\n",
       "    scrolling=\"no\"\n",
       "    width=\"100%\"\n",
       "    height=\"545px\"\n",
       "    src=\"iframe_figures/figure_61.html\"\n",
       "    frameborder=\"0\"\n",
       "    allowfullscreen\n",
       "></iframe>\n"
      ]
     },
     "metadata": {},
     "output_type": "display_data"
    }
   ],
   "source": [
    "ScatterChart(\"RePrime_logWS.xlsx\", 'ReDraft Position','log(WS)')"
   ]
  },
  {
   "cell_type": "code",
   "execution_count": 62,
   "metadata": {},
   "outputs": [
    {
     "name": "stdout",
     "output_type": "stream",
     "text": [
      "Prime log(WS) = (-0.06437679953826883 * Draft Position) + 3.973033417102024\n",
      "R^2: 0.9144215825701276\n"
     ]
    }
   ],
   "source": [
    "LinearEquation(\"RePrime_logWS.xlsx\", 'ReDraft Position' ,'log(WS)')"
   ]
  },
  {
   "cell_type": "markdown",
   "metadata": {},
   "source": [
    "### 3.3.1 \"Re-Draft\" Position vs. log(Prime Wins) Results:\n",
    "\n",
    "We return a fairly strong R-squared of 0.9144"
   ]
  },
  {
   "cell_type": "markdown",
   "metadata": {},
   "source": [
    "## Remove Outliers\n",
    "\n",
    "Track medians and inner quartiles of each Draft Position.\n",
    "\n",
    "I expect to see wide ranges for early draft picks. Outside of the lottery, the range from Q1 to Q3 should probably shrink tremendously.\n",
    "\n",
    "Work in Progress..."
   ]
  },
  {
   "cell_type": "code",
   "execution_count": 50,
   "metadata": {},
   "outputs": [],
   "source": [
    "def BoxPlot(file,stat):\n",
    "    df = pd.read_excel(file) #Read the excel file in as a dataframe\n",
    "    fig = px.box(df, x=\"Draft Position\", y= stat)\n",
    "    fig.show()"
   ]
  },
  {
   "cell_type": "code",
   "execution_count": 51,
   "metadata": {
    "scrolled": false
   },
   "outputs": [
    {
     "data": {
      "text/html": [
       "<iframe\n",
       "    scrolling=\"no\"\n",
       "    width=\"100%\"\n",
       "    height=\"545px\"\n",
       "    src=\"iframe_figures/figure_51.html\"\n",
       "    frameborder=\"0\"\n",
       "    allowfullscreen\n",
       "></iframe>\n"
      ]
     },
     "metadata": {},
     "output_type": "display_data"
    }
   ],
   "source": [
    "BoxPlot(\"Prime_WS.xlsx\",'WS')"
   ]
  },
  {
   "cell_type": "markdown",
   "metadata": {},
   "source": [
    "### Example 2: Markelle Fultz Trade\n",
    "\n",
    "As someone who grew up in Philadelphia and was a fan during The Process. This trade is something that keeps me up at night.\n",
    "\n",
    "Work in Progress..."
   ]
  },
  {
   "cell_type": "markdown",
   "metadata": {},
   "source": [
    "## Group by Draft Position (Lottery, Second Round, etc.)\n",
    "\n",
    "Work in Progress..."
   ]
  },
  {
   "cell_type": "markdown",
   "metadata": {},
   "source": [
    "## Group by *Drafted Postion* (Point Guard, Shooting Guard, Center, etc.)\n",
    "\n",
    "Work in Progress..."
   ]
  },
  {
   "cell_type": "markdown",
   "metadata": {},
   "source": [
    "## Group by Drafted Team (San Antonio, Cleveland Caveliers, etc.)\n",
    "\n",
    "Work in Progress..."
   ]
  }
 ],
 "metadata": {
  "celltoolbar": "Raw Cell Format",
  "kernelspec": {
   "display_name": "Python 3",
   "language": "python",
   "name": "python3"
  },
  "language_info": {
   "codemirror_mode": {
    "name": "ipython",
    "version": 3
   },
   "file_extension": ".py",
   "mimetype": "text/x-python",
   "name": "python",
   "nbconvert_exporter": "python",
   "pygments_lexer": "ipython3",
   "version": "3.8.8"
  }
 },
 "nbformat": 4,
 "nbformat_minor": 4
}
